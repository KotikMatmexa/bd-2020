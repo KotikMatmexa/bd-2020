{
 "cells": [
  {
   "cell_type": "markdown",
   "metadata": {},
   "source": [
    "<h3>Сбор данных</h3>\n",
    "    \n",
    "Производился через beautifulsoup путем сбора всех ссылок, регионов и ТИКов и затем сбора информации по отдельным страницам местных избиркомов"
   ]
  },
  {
   "cell_type": "code",
   "execution_count": 1,
   "metadata": {},
   "outputs": [],
   "source": [
    "import requests\n",
    "from bs4 import BeautifulSoup\n",
    "import numpy as np\n",
    "import multiprocessing\n",
    "import pandas as pd \n",
    "\n",
    "#Создание полей заголовков\n",
    "r = requests.get('http://www.vybory.izbirkom.ru/region/izbirkom?action=show&global=true&root=42000004&tvd=2042000367645&vrn=100100084849062&prver=0&pronetvd=null&region=2&sub_region=2&type=227&vibid=2042000367648')\n",
    "soup = BeautifulSoup(r.text, 'lxml') \n",
    "titles = [i.find_all('nobr') for i in soup.find_all('tr')[18:40]]\n",
    "titles = [i[1].text for i in titles if len(i)>1]\n",
    "headers = ['Название региона', 'Название ТИК', 'Номер УИК']\n",
    "headers.extend(titles)\n",
    "\n",
    "#Получение ссылок на региональные сайты, названий регионов и ТИКов\n",
    "r = requests.get('http://www.vybory.izbirkom.ru/region/region/izbirkom?action=show&root=1&tvd=100100084849066&vrn=100100084849062&region=0&global=1&sub_region=0&prver=0&pronetvd=null&vibid=100100084849066&type=227')\n",
    "soup = BeautifulSoup(r.text, 'lxml') \n",
    "\n",
    "#список регионов\n",
    "regions = [i['href'] for i in soup.find_all('a')[4:]]\n",
    "regions_text = [i.text for i in soup.find_all('a')[4:]]\n",
    "hrefs = []\n",
    "\n",
    "#Все регионы кроме регионов за пределами РФ\n",
    "for url, region in zip(regions[:-2],regions_text[:-2]):\n",
    "    r = requests.get(url)\n",
    "    soup = BeautifulSoup(r.text, 'lxml')\n",
    "    tiks = [i['href'] for i in soup.find_all('a')[5:]]\n",
    "    tiks_text = [i.text for i in soup.find_all('a')[5:]]\n",
    "    for item, tik in zip(tiks, tiks_text):\n",
    "        r = requests.get(item)\n",
    "        soup = BeautifulSoup(r.text, 'lxml') \n",
    "        hrefs.append([soup.find_all('a')[-2]['href'], region, tik])\n",
    "\n",
    "#Байконур и другие территории вне РФ\n",
    "for url, region in zip(regions[-2:],regions_text[-2:]):\n",
    "    r = requests.get(url)\n",
    "    soup = BeautifulSoup(r.text, 'lxml') \n",
    "    #т.к. ТИКов нет, регион дублируется\n",
    "    hrefs.append([soup.find_all('a')[-2]['href'], region, region])"
   ]
  },
  {
   "cell_type": "markdown",
   "metadata": {},
   "source": [
    "Основной скрипт парсинга страниц, на вход подается ссылка на страницу, регион и ТИК, а так-же список ссылок-исключений, т.е. ТИКов в которых только один УИК \n",
    "\n",
    "Скрипт и универсален и работает для всех регионов, за исключением Калининградской области для которой страница не парсится через lxml и приходится использовать намного более медленный html5lib"
   ]
  },
  {
   "cell_type": "code",
   "execution_count": 2,
   "metadata": {},
   "outputs": [],
   "source": [
    "#ТИКи с одним участком\n",
    "exceptions = [i[0] for i in [hrefs[662], hrefs[1596], hrefs[1626], hrefs[2180], hrefs[2260], hrefs[2268], hrefs[2364]]]\n",
    "def parse(link, exceptions):\n",
    "    url = link[0]\n",
    "    region = link[1]\n",
    "    tik = link[2]\n",
    "    r = requests.get(url)\n",
    "    #исключение для Калиниграда\n",
    "    if region == 'Калининградская область':\n",
    "        soup = BeautifulSoup(r.text, 'html5lib')\n",
    "        data = [i.find_all('b') for i in soup.find_all('tr')[41:69]]\n",
    "        data = [[i.text for i in line] for line in data if len(line)>0][6:] \n",
    "        data = np.array(data).transpose()\n",
    "        uik = [i[0] for i in [[k.text for k in i.find_all('nobr') if 'УИК' in k.text] for i in \\\n",
    "                                                                  soup.find_all('td')][83:] if len(i)>0]\n",
    "        if uik[0]==uik[1]:\n",
    "            uik = uik[1:]\n",
    "        uiktik = [[region, tik, z] for z in uik]\n",
    "        return(np.concatenate((uiktik, data), axis=1))\n",
    "\n",
    "    soup = BeautifulSoup(r.text, 'lxml') \n",
    "    #если ссылки нет исключений то берется множество строк из заведомо большего промежутка, а затем удляются все строки \n",
    "    #с длинной меньше 2, таким образом отрезая все ненужные метаданные\n",
    "    if url not in exceptions:\n",
    "        data = [i.find_all('b') for i in soup.find_all('tr')[36:75]]\n",
    "        data = [[i.text for i in line] for line in data if len(line)>1]\n",
    "    #в случае если участок один то все строки будут иметь длину 1, поэтому нужно брать более узкий промежуток, \n",
    "    #полученный опытным путем\n",
    "    else:\n",
    "        data = [i.find_all('b') for i in soup.find_all('tr')[41:69]]\n",
    "        data = [[i.text for i in line] for line in data if len(line)>0]\n",
    "    #транспонирование данных в нужный нам вид (столбцы - параметры, строки - участки)\n",
    "    data = np.array(data).transpose()\n",
    "    #простейшая проверка корректности всех данных\n",
    "    if len(data[0]) != 20:\n",
    "        print(link)\n",
    "    #получение УИКов, как ни странно для всех сайтов работает как надо\n",
    "    uik = [i[0] for i in [[k.text for k in i.find_all('nobr') if 'УИК' in k.text] for i in \\\n",
    "                                                                      soup.find_all('td')][83:] if len(i)>0]\n",
    "    #для некоторых сайтов первый УИК в коде таблицы дублируется, в таком случае он удаляется\n",
    "    if uik[0]==uik[1]:\n",
    "        uik = uik[1:]\n",
    "    uiktik = [[region, tik, z] for z in uik]\n",
    "    #функция возвращает массив в формате, требуемом в условии\n",
    "    return(np.concatenate((uiktik, data), axis=1))"
   ]
  },
  {
   "cell_type": "markdown",
   "metadata": {},
   "source": [
    "Сбор данных и сохранение"
   ]
  },
  {
   "cell_type": "code",
   "execution_count": 3,
   "metadata": {},
   "outputs": [],
   "source": [
    "data = []\n",
    "for link in hrefs:\n",
    "    data.append(parse(link, exceptions))\n",
    "result = np.vstack((headers,np.concatenate(data)))\n",
    "pd.DataFrame(result).to_csv(\"data.csv\", header=None, index=None)"
   ]
  },
  {
   "cell_type": "markdown",
   "metadata": {},
   "source": [
    "<h4>Результат"
   ]
  },
  {
   "cell_type": "code",
   "execution_count": 4,
   "metadata": {},
   "outputs": [
    {
     "data": {
      "text/html": [
       "<div>\n",
       "<style scoped>\n",
       "    .dataframe tbody tr th:only-of-type {\n",
       "        vertical-align: middle;\n",
       "    }\n",
       "\n",
       "    .dataframe tbody tr th {\n",
       "        vertical-align: top;\n",
       "    }\n",
       "\n",
       "    .dataframe thead th {\n",
       "        text-align: right;\n",
       "    }\n",
       "</style>\n",
       "<table border=\"1\" class=\"dataframe\">\n",
       "  <thead>\n",
       "    <tr style=\"text-align: right;\">\n",
       "      <th></th>\n",
       "      <th>Название региона</th>\n",
       "      <th>Название ТИК</th>\n",
       "      <th>Номер УИК</th>\n",
       "      <th>Число избирателей, включенных в список избирателей</th>\n",
       "      <th>Число избирательных бюллетеней, полученных участковой избирательной комиссией</th>\n",
       "      <th>Число избирательных бюллетеней, выданных избирателям, проголосовавшим досрочно</th>\n",
       "      <th>Число избирательных бюллетеней, выданных в помещении для голосования в день голосования</th>\n",
       "      <th>Число избирательных бюллетеней, выданных вне помещения для голосования в день голосования</th>\n",
       "      <th>Число погашенных избирательных бюллетеней</th>\n",
       "      <th>Число избирательных бюллетеней в переносных ящиках для голосования</th>\n",
       "      <th>...</th>\n",
       "      <th>Число утраченных избирательных бюллетеней</th>\n",
       "      <th>Число избирательных бюллетеней, не учтенных при получении</th>\n",
       "      <th>Бабурин Сергей Николаевич</th>\n",
       "      <th>Грудинин Павел Николаевич</th>\n",
       "      <th>Жириновский Владимир Вольфович</th>\n",
       "      <th>Путин Владимир Владимирович</th>\n",
       "      <th>Собчак Ксения Анатольевна</th>\n",
       "      <th>Сурайкин Максим Александрович</th>\n",
       "      <th>Титов Борис Юрьевич</th>\n",
       "      <th>Явлинский Григорий Алексеевич</th>\n",
       "    </tr>\n",
       "  </thead>\n",
       "  <tbody>\n",
       "    <tr>\n",
       "      <th>0</th>\n",
       "      <td>Республика Адыгея (Адыгея)</td>\n",
       "      <td>Адыгейская</td>\n",
       "      <td>УИК №1</td>\n",
       "      <td>2256</td>\n",
       "      <td>2181</td>\n",
       "      <td>0</td>\n",
       "      <td>2107</td>\n",
       "      <td>62</td>\n",
       "      <td>12</td>\n",
       "      <td>62</td>\n",
       "      <td>...</td>\n",
       "      <td>0</td>\n",
       "      <td>0</td>\n",
       "      <td>0</td>\n",
       "      <td>137</td>\n",
       "      <td>32</td>\n",
       "      <td>1977</td>\n",
       "      <td>14</td>\n",
       "      <td>0</td>\n",
       "      <td>1</td>\n",
       "      <td>5</td>\n",
       "    </tr>\n",
       "    <tr>\n",
       "      <th>1</th>\n",
       "      <td>Республика Адыгея (Адыгея)</td>\n",
       "      <td>Адыгейская</td>\n",
       "      <td>УИК №2</td>\n",
       "      <td>2700</td>\n",
       "      <td>2633</td>\n",
       "      <td>0</td>\n",
       "      <td>2575</td>\n",
       "      <td>41</td>\n",
       "      <td>17</td>\n",
       "      <td>41</td>\n",
       "      <td>...</td>\n",
       "      <td>0</td>\n",
       "      <td>0</td>\n",
       "      <td>15</td>\n",
       "      <td>86</td>\n",
       "      <td>65</td>\n",
       "      <td>2389</td>\n",
       "      <td>13</td>\n",
       "      <td>5</td>\n",
       "      <td>6</td>\n",
       "      <td>15</td>\n",
       "    </tr>\n",
       "    <tr>\n",
       "      <th>2</th>\n",
       "      <td>Республика Адыгея (Адыгея)</td>\n",
       "      <td>Адыгейская</td>\n",
       "      <td>УИК №3</td>\n",
       "      <td>2858</td>\n",
       "      <td>2752</td>\n",
       "      <td>0</td>\n",
       "      <td>2664</td>\n",
       "      <td>75</td>\n",
       "      <td>13</td>\n",
       "      <td>75</td>\n",
       "      <td>...</td>\n",
       "      <td>0</td>\n",
       "      <td>0</td>\n",
       "      <td>1</td>\n",
       "      <td>62</td>\n",
       "      <td>13</td>\n",
       "      <td>2645</td>\n",
       "      <td>6</td>\n",
       "      <td>3</td>\n",
       "      <td>4</td>\n",
       "      <td>0</td>\n",
       "    </tr>\n",
       "    <tr>\n",
       "      <th>3</th>\n",
       "      <td>Республика Адыгея (Адыгея)</td>\n",
       "      <td>Адыгейская</td>\n",
       "      <td>УИК №4</td>\n",
       "      <td>2066</td>\n",
       "      <td>2034</td>\n",
       "      <td>0</td>\n",
       "      <td>1857</td>\n",
       "      <td>142</td>\n",
       "      <td>35</td>\n",
       "      <td>142</td>\n",
       "      <td>...</td>\n",
       "      <td>0</td>\n",
       "      <td>0</td>\n",
       "      <td>5</td>\n",
       "      <td>288</td>\n",
       "      <td>12</td>\n",
       "      <td>1642</td>\n",
       "      <td>21</td>\n",
       "      <td>6</td>\n",
       "      <td>2</td>\n",
       "      <td>2</td>\n",
       "    </tr>\n",
       "    <tr>\n",
       "      <th>4</th>\n",
       "      <td>Республика Адыгея (Адыгея)</td>\n",
       "      <td>Адыгейская</td>\n",
       "      <td>УИК №5</td>\n",
       "      <td>700</td>\n",
       "      <td>714</td>\n",
       "      <td>0</td>\n",
       "      <td>676</td>\n",
       "      <td>11</td>\n",
       "      <td>27</td>\n",
       "      <td>11</td>\n",
       "      <td>...</td>\n",
       "      <td>0</td>\n",
       "      <td>0</td>\n",
       "      <td>2</td>\n",
       "      <td>44</td>\n",
       "      <td>6</td>\n",
       "      <td>624</td>\n",
       "      <td>6</td>\n",
       "      <td>0</td>\n",
       "      <td>0</td>\n",
       "      <td>2</td>\n",
       "    </tr>\n",
       "  </tbody>\n",
       "</table>\n",
       "<p>5 rows × 23 columns</p>\n",
       "</div>"
      ],
      "text/plain": [
       "             Название региона Название ТИК Номер УИК  \\\n",
       "0  Республика Адыгея (Адыгея)   Адыгейская    УИК №1   \n",
       "1  Республика Адыгея (Адыгея)   Адыгейская    УИК №2   \n",
       "2  Республика Адыгея (Адыгея)   Адыгейская    УИК №3   \n",
       "3  Республика Адыгея (Адыгея)   Адыгейская    УИК №4   \n",
       "4  Республика Адыгея (Адыгея)   Адыгейская    УИК №5   \n",
       "\n",
       "   Число избирателей, включенных в список избирателей   \\\n",
       "0                                               2256     \n",
       "1                                               2700     \n",
       "2                                               2858     \n",
       "3                                               2066     \n",
       "4                                                700     \n",
       "\n",
       "   Число избирательных бюллетеней, полученных участковой избирательной комиссией  \\\n",
       "0                                               2181                               \n",
       "1                                               2633                               \n",
       "2                                               2752                               \n",
       "3                                               2034                               \n",
       "4                                                714                               \n",
       "\n",
       "   Число избирательных бюллетеней, выданных избирателям, проголосовавшим досрочно  \\\n",
       "0                                                  0                                \n",
       "1                                                  0                                \n",
       "2                                                  0                                \n",
       "3                                                  0                                \n",
       "4                                                  0                                \n",
       "\n",
       "   Число избирательных бюллетеней, выданных в помещении для голосования в день голосования  \\\n",
       "0                                               2107                                         \n",
       "1                                               2575                                         \n",
       "2                                               2664                                         \n",
       "3                                               1857                                         \n",
       "4                                                676                                         \n",
       "\n",
       "   Число избирательных бюллетеней, выданных вне помещения для голосования в день голосования  \\\n",
       "0                                                 62                                           \n",
       "1                                                 41                                           \n",
       "2                                                 75                                           \n",
       "3                                                142                                           \n",
       "4                                                 11                                           \n",
       "\n",
       "   Число погашенных избирательных бюллетеней  \\\n",
       "0                                         12   \n",
       "1                                         17   \n",
       "2                                         13   \n",
       "3                                         35   \n",
       "4                                         27   \n",
       "\n",
       "   Число избирательных бюллетеней в переносных ящиках для голосования  ...  \\\n",
       "0                                                 62                   ...   \n",
       "1                                                 41                   ...   \n",
       "2                                                 75                   ...   \n",
       "3                                                142                   ...   \n",
       "4                                                 11                   ...   \n",
       "\n",
       "   Число утраченных избирательных бюллетеней  \\\n",
       "0                                          0   \n",
       "1                                          0   \n",
       "2                                          0   \n",
       "3                                          0   \n",
       "4                                          0   \n",
       "\n",
       "   Число избирательных бюллетеней, не учтенных при получении   \\\n",
       "0                                                  0            \n",
       "1                                                  0            \n",
       "2                                                  0            \n",
       "3                                                  0            \n",
       "4                                                  0            \n",
       "\n",
       "   Бабурин Сергей Николаевич  Грудинин Павел Николаевич  \\\n",
       "0                          0                        137   \n",
       "1                         15                         86   \n",
       "2                          1                         62   \n",
       "3                          5                        288   \n",
       "4                          2                         44   \n",
       "\n",
       "   Жириновский Владимир Вольфович  Путин Владимир Владимирович  \\\n",
       "0                              32                         1977   \n",
       "1                              65                         2389   \n",
       "2                              13                         2645   \n",
       "3                              12                         1642   \n",
       "4                               6                          624   \n",
       "\n",
       "   Собчак Ксения Анатольевна  Сурайкин Максим Александрович  \\\n",
       "0                         14                              0   \n",
       "1                         13                              5   \n",
       "2                          6                              3   \n",
       "3                         21                              6   \n",
       "4                          6                              0   \n",
       "\n",
       "   Титов Борис Юрьевич  Явлинский Григорий Алексеевич  \n",
       "0                    1                              5  \n",
       "1                    6                             15  \n",
       "2                    4                              0  \n",
       "3                    2                              2  \n",
       "4                    0                              2  \n",
       "\n",
       "[5 rows x 23 columns]"
      ]
     },
     "execution_count": 1,
     "metadata": {},
     "output_type": "execute_result"
    }
   ],
   "source": [
    "import pandas as pd\n",
    "data = pd.read_csv('data.csv')\n",
    "data.head()"
   ]
  },
  {
   "cell_type": "markdown",
   "metadata": {},
   "source": [
    "<h3>Spark"
   ]
  },
  {
   "cell_type": "code",
   "execution_count": 5,
   "metadata": {
    "scrolled": true
   },
   "outputs": [],
   "source": [
    "from pyspark.sql import SparkSession\n",
    "from pyspark.sql.functions import max, min, stddev, round, count, col\n",
    "from functools import reduce\n",
    "from operator import add\n",
    "\n",
    "spark = SparkSession.builder.appName(\"PySpark\").getOrCreate()"
   ]
  },
  {
   "cell_type": "markdown",
   "metadata": {},
   "source": [
    "Чтение даных, более удобные названия для колонок"
   ]
  },
  {
   "cell_type": "code",
   "execution_count": 6,
   "metadata": {},
   "outputs": [],
   "source": [
    "df = spark.read.csv('data.csv', inferSchema=True, header=True).toDF( \\\n",
    "          'Регион','ТИК','УИК', 'избиратели', 'бюллетени', \\\n",
    "          'досрочно', 'внутри', 'снаружи', 'погашенные', \\\n",
    "          'переносные ящики', 'стационарные ящики', \\\n",
    "          'недействительные', 'действительные', 'утраченные', 'неучтенные', \\\n",
    "          'Бабурин', 'Грудинин', 'Жириновский', 'Путин', \\\n",
    "          'Собчак', 'Сурайкин', 'Титов', 'Явлинский')"
   ]
  },
  {
   "cell_type": "markdown",
   "metadata": {},
   "source": [
    "Создание таблицы явки по всем регионам путем отбора и суммирования нужных колонок (изначально делал по кандидатам, но число получалось значительно ниже из-за отбракованных бюллетеней)"
   ]
  },
  {
   "cell_type": "code",
   "execution_count": 7,
   "metadata": {},
   "outputs": [
    {
     "name": "stdout",
     "output_type": "stream",
     "text": [
      "+--------------------+-----------------+\n",
      "|              Регион|             Явка|\n",
      "+--------------------+-----------------+\n",
      "|Территория за пре...|98.06986984380843|\n",
      "|     Республика Тыва|93.66369316170004|\n",
      "|Ямало-Ненецкий ав...|91.90125747324196|\n",
      "|Кабардино-Балкарс...|91.80157863562131|\n",
      "|Чеченская Республика|91.54001705101919|\n",
      "|Республика Северн...|89.98810071492768|\n",
      "| Республика Дагестан|87.47795414462081|\n",
      "|Карачаево-Черкесс...|87.40544668203033|\n",
      "| Кемеровская область|83.22733516003962|\n",
      "|Чукотский автоном...| 82.2813869592439|\n",
      "+--------------------+-----------------+\n",
      "only showing top 10 rows\n",
      "\n"
     ]
    }
   ],
   "source": [
    "voted = ['досрочно', 'внутри', 'снаружи']\n",
    "\n",
    "presence = df.groupBy('Регион') \\\n",
    "  .sum('избиратели', *voted) \\\n",
    "  .withColumn('сумма', reduce(add, [col(x) for x in ['sum('+i+')' for i in voted]])) \\\n",
    "  .select('Регион', 'sum(избиратели)', 'сумма') \\\n",
    "  .sort('sum(избиратели)', ascending=False) \\\n",
    "  .withColumn('Явка', col('сумма') / col('sum(избиратели)') * 100) \\\n",
    "  .select('Регион', 'Явка') \\\n",
    "  .sort('Явка', ascending=False) \n",
    "\n",
    "presence.show(10)"
   ]
  },
  {
   "cell_type": "markdown",
   "metadata": {},
   "source": [
    "Перевод результата в pandas dataframe и визуализация явки для каждого 16-го региона"
   ]
  },
  {
   "cell_type": "code",
   "execution_count": 8,
   "metadata": {},
   "outputs": [],
   "source": [
    "presence = presence.toPandas()"
   ]
  },
  {
   "cell_type": "code",
   "execution_count": 9,
   "metadata": {},
   "outputs": [
    {
     "data": {
      "image/png": "[encoded data removed]",
      "text/plain": [
       "<Figure size 1296x360 with 1 Axes>"
      ]
     },
     "metadata": {
      "needs_background": "light"
     },
     "output_type": "display_data"
    }
   ],
   "source": [
    "import seaborn as sns\n",
    "import matplotlib.pyplot as plt\n",
    "plt.figure(figsize=(18,5))\n",
    "ax = sns.barplot(x=presence['Регион'][::16], y=presence['Явка'][::16]) \n",
    "ax.set(ylabel='Явка в процентах', xlabel = '')\n",
    "plt.show()"
   ]
  },
  {
   "cell_type": "markdown",
   "metadata": {},
   "source": [
    "Избирательный участок на котором кандидат набрал наибольшее число голосов"
   ]
  },
  {
   "cell_type": "code",
   "execution_count": 10,
   "metadata": {},
   "outputs": [
    {
     "name": "stdout",
     "output_type": "stream",
     "text": [
      "+--------------------+--------------------+---------+-------------+\n",
      "|              Регион|                 ТИК|      УИК|Число голосов|\n",
      "+--------------------+--------------------+---------+-------------+\n",
      "|Территория за пре...|Территория за пре...|УИК №8342|         7221|\n",
      "+--------------------+--------------------+---------+-------------+\n",
      "only showing top 1 row\n",
      "\n"
     ]
    }
   ],
   "source": [
    "def get_candidate(name):\n",
    "    stat = df.filter(col(name) >= 300) \\\n",
    "      .select('Регион','ТИК','УИК', name) \\\n",
    "      .groupBy('Регион','ТИК','УИК') \\\n",
    "      .agg(max(name).alias('Число голосов')) \\\n",
    "      .select('Регион', 'ТИК', 'УИК', 'Число голосов') \\\n",
    "      .sort('Число голосов', ascending=False)\n",
    "    return stat\n",
    "\n",
    "#Пример \n",
    "get_candidate('Путин').show(1)"
   ]
  },
  {
   "cell_type": "markdown",
   "metadata": {},
   "source": [
    "Регион, где разница между ТИК с наибольшей явкой и наименьшей максимальна"
   ]
  },
  {
   "cell_type": "code",
   "execution_count": 11,
   "metadata": {},
   "outputs": [
    {
     "name": "stdout",
     "output_type": "stream",
     "text": [
      "+--------------------+------------------+\n",
      "|              Регион|           Разница|\n",
      "+--------------------+------------------+\n",
      "|Архангельская обл...|  49.8591648406849|\n",
      "| Сахалинская область|48.425080358447666|\n",
      "| Республика Дагестан| 46.38987836388278|\n",
      "|   Самарская область|41.698130506775954|\n",
      "|   Красноярский край|41.593725903311665|\n",
      "| Саратовская область| 40.03895056872615|\n",
      "|Республика Татарс...|  39.4714905703235|\n",
      "|  Краснодарский край| 37.25799222313191|\n",
      "|Республика Адыгея...|36.020071603446446|\n",
      "| Республика Калмыкия| 35.80047047156419|\n",
      "+--------------------+------------------+\n",
      "only showing top 10 rows\n",
      "\n"
     ]
    }
   ],
   "source": [
    "diff = df.groupBy('Регион','ТИК') \\\n",
    "  .sum('избиратели', 'досрочно', 'внутри', 'снаружи') \\\n",
    "  .withColumn('сумма', reduce(add, [col(x) for x in ['sum(досрочно)','sum(внутри)', 'sum(снаружи)']])) \\\n",
    "  .withColumn('Явка', col('сумма') / col('sum(избиратели)') * 100) \\\n",
    "  .select('Регион', 'ТИК', 'Явка') \\\n",
    "  .groupBy('Регион') \\\n",
    "  .agg((max('Явка') - min('Явка')).alias('Разница')) \\\n",
    "  .sort('Разница', ascending=False) \n",
    "diff.show(10)\n",
    "diff = diff.toPandas()"
   ]
  },
  {
   "cell_type": "markdown",
   "metadata": {},
   "source": [
    "Визуализация разницы"
   ]
  },
  {
   "cell_type": "code",
   "execution_count": 12,
   "metadata": {},
   "outputs": [
    {
     "data": {
      "image/png": "[encoded data removed]",
      "text/plain": [
       "<Figure size 1296x360 with 1 Axes>"
      ]
     },
     "metadata": {
      "needs_background": "light"
     },
     "output_type": "display_data"
    }
   ],
   "source": [
    "plt.figure(figsize=(18,5))\n",
    "ax = sns.barplot(x=diff['Регион'][::16], y=diff['Разница'][::16]) \n",
    "#ax.set(ylabel='Явка в процентах', xlabel = '')\n",
    "plt.show()"
   ]
  },
  {
   "cell_type": "markdown",
   "metadata": {},
   "source": [
    "Дисперсия по явке для каждого региона"
   ]
  },
  {
   "cell_type": "code",
   "execution_count": 13,
   "metadata": {},
   "outputs": [
    {
     "name": "stdout",
     "output_type": "stream",
     "text": [
      "+--------------------+------------------+\n",
      "|              Регион|         Дисперсия|\n",
      "+--------------------+------------------+\n",
      "| Сахалинская область|  20.1817713258144|\n",
      "|     Камчатский край|16.861471602822416|\n",
      "|  Мурманская область|16.734301006169574|\n",
      "|     Приморский край|16.641672216989203|\n",
      "|Республика Адыгея...|16.330124345063627|\n",
      "|   Самарская область|15.604639730031092|\n",
      "| Саратовская область|15.419177745102221|\n",
      "| Республика Калмыкия|15.349925960543612|\n",
      "| Воронежская область|14.969001494440171|\n",
      "| Магаданская область|14.380287651040703|\n",
      "+--------------------+------------------+\n",
      "only showing top 10 rows\n",
      "\n"
     ]
    }
   ],
   "source": [
    "std =df.groupBy('Регион','ТИК', 'УИК') \\\n",
    "  .sum('избиратели', 'досрочно', 'внутри', 'снаружи') \\\n",
    "  .withColumn('сумма', reduce(add, [col(x) for x in ['sum(досрочно)','sum(внутри)', 'sum(снаружи)']])) \\\n",
    "  .withColumn('Явка', col('сумма') / col('sum(избиратели)') * 100) \\\n",
    "  .groupBy('Регион') \\\n",
    "  .agg(stddev('Явка').alias('Дисперсия')) \\\n",
    "  .sort('Дисперсия', ascending=False) \n",
    "std.show(10)\n",
    "std = std.toPandas()"
   ]
  },
  {
   "cell_type": "markdown",
   "metadata": {},
   "source": [
    "Визуализация дисперсии"
   ]
  },
  {
   "cell_type": "code",
   "execution_count": 14,
   "metadata": {},
   "outputs": [
    {
     "data": {
      "image/png": "[encoded data removed]",
      "text/plain": [
       "<Figure size 1296x360 with 1 Axes>"
      ]
     },
     "metadata": {
      "needs_background": "light"
     },
     "output_type": "display_data"
    }
   ],
   "source": [
    "plt.figure(figsize=(18,5))\n",
    "ax = sns.barplot(x=std['Регион'][::16], y=std['Дисперсия'][::16]) \n",
    "#ax.set(ylabel='Явка в процентах', xlabel = '')\n",
    "plt.show()"
   ]
  },
  {
   "cell_type": "markdown",
   "metadata": {},
   "source": [
    "Таблицы для кандидатов"
   ]
  },
  {
   "cell_type": "code",
   "execution_count": 15,
   "metadata": {},
   "outputs": [
    {
     "name": "stdout",
     "output_type": "stream",
     "text": [
      "+--------------------+--------------------+---------+----+---------------+\n",
      "|              Регион|                 ТИК|      УИК|Явка|Процент голосов|\n",
      "+--------------------+--------------------+---------+----+---------------+\n",
      "|Территория за пре...|Территория за пре...|УИК №8342|7746|           93.0|\n",
      "|Территория за пре...|Территория за пре...|УИК №8042|7040|           82.0|\n",
      "|Территория за пре...|Территория за пре...|УИК №8159|6944|           93.0|\n",
      "|Территория за пре...|Территория за пре...|УИК №8179|6067|           93.0|\n",
      "|Территория за пре...|Территория за пре...|УИК №8206|5719|           95.0|\n",
      "|Территория за пре...|Территория за пре...|УИК №8000|5297|           90.0|\n",
      "|Территория за пре...|Территория за пре...|УИК №8158|5278|           77.0|\n",
      "|Территория за пре...|Территория за пре...|УИК №8218|5263|           94.0|\n",
      "|Территория за пре...|Территория за пре...|УИК №8297|4916|           93.0|\n",
      "|Территория за пре...|Территория за пре...|УИК №8026|4879|           91.0|\n",
      "+--------------------+--------------------+---------+----+---------------+\n",
      "only showing top 10 rows\n",
      "\n"
     ]
    }
   ],
   "source": [
    "#вводится ия кандидата\n",
    "name = 'Путин'\n",
    "\n",
    "#вывод явки и процента голосов за кандидата на участке\n",
    "percent = df.groupBy('Регион','ТИК', 'УИК',name) \\\n",
    "  .sum('избиратели', 'досрочно', 'внутри', 'снаружи') \\\n",
    "  .withColumn('Явка', reduce(add, [col(x) for x in ['sum(досрочно)', 'sum(внутри)', 'sum(снаружи)']])) \\\n",
    "  .withColumn('Процент голосов', round(col(name) / col('Явка') * 100)) \\\n",
    "  .select('Регион','ТИК','УИК', 'Явка', 'Процент голосов') \\\n",
    "  .sort('Явка', ascending=False) \n",
    "percent.show(10)"
   ]
  },
  {
   "cell_type": "markdown",
   "metadata": {},
   "source": [
    "Вывод числа участков с процентами голосов"
   ]
  },
  {
   "cell_type": "code",
   "execution_count": 16,
   "metadata": {},
   "outputs": [
    {
     "name": "stdout",
     "output_type": "stream",
     "text": [
      "+---------------+-----------+\n",
      "|Процент голосов|Число УИКов|\n",
      "+---------------+-----------+\n",
      "|          100.0|        242|\n",
      "|           99.0|        334|\n",
      "|           98.0|        638|\n",
      "|           97.0|        770|\n",
      "|           96.0|        915|\n",
      "|           95.0|       1285|\n",
      "|           94.0|       1265|\n",
      "|           93.0|       1474|\n",
      "|           92.0|       1577|\n",
      "|           91.0|       1566|\n",
      "|           90.0|       1871|\n",
      "|           89.0|       1541|\n",
      "|           88.0|       1725|\n",
      "|           87.0|       1833|\n",
      "|           86.0|       2065|\n",
      "|           85.0|       2374|\n",
      "|           84.0|       2314|\n",
      "|           83.0|       2592|\n",
      "|           82.0|       2637|\n",
      "|           81.0|       2981|\n",
      "+---------------+-----------+\n",
      "only showing top 20 rows\n",
      "\n"
     ]
    }
   ],
   "source": [
    "votes = percent.groupBy('Процент голосов')\\\n",
    "    .agg(count('Процент голосов').alias('Число УИКов')) \\\n",
    "    .sort('Процент голосов', ascending=False) \n",
    "votes.show(20)"
   ]
  },
  {
   "cell_type": "markdown",
   "metadata": {},
   "source": [
    "С подписями на оси X беда, их слишком много, но каждый из столбцов соответсвует одному проценту по возрастанию"
   ]
  },
  {
   "cell_type": "code",
   "execution_count": 17,
   "metadata": {},
   "outputs": [
    {
     "data": {
      "image/png": "[encoded data removed]",
      "text/plain": [
       "<Figure size 1152x360 with 1 Axes>"
      ]
     },
     "metadata": {
      "needs_background": "light"
     },
     "output_type": "display_data"
    }
   ],
   "source": [
    "result = votes.toPandas()\n",
    "plt.figure(figsize=(16,5))\n",
    "plt.tick_params(\n",
    "    axis='x',         \n",
    "    which='both',      \n",
    "    bottom=False,      \n",
    "    top=False,         \n",
    "    labelbottom=False) \n",
    "ax = sns.barplot(x=result['Процент голосов'], y=result['Число УИКов']) \n",
    "plt.show()"
   ]
  }
 ],
 "metadata": {
  "kernelspec": {
   "display_name": "Python 3",
   "language": "python",
   "name": "python3"
  },
  "language_info": {
   "codemirror_mode": {
    "name": "ipython",
    "version": 3
   },
   "file_extension": ".py",
   "mimetype": "text/x-python",
   "name": "python",
   "nbconvert_exporter": "python",
   "pygments_lexer": "ipython3",
   "version": "3.7.3"
  }
 },
 "nbformat": 4,
 "nbformat_minor": 2
}
